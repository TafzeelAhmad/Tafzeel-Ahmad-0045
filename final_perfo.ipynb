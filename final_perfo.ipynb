{
  "nbformat": 4,
  "nbformat_minor": 0,
  "metadata": {
    "colab": {
      "provenance": [],
      "gpuType": "T4"
    },
    "kernelspec": {
      "name": "python3",
      "display_name": "Python 3"
    },
    "language_info": {
      "name": "python"
    },
    "accelerator": "GPU"
  },
  "cells": [
    {
      "cell_type": "markdown",
      "source": [
        "***Cell 1: Import Libraries***"
      ],
      "metadata": {
        "id": "wKlefi9C1n9t"
      }
    },
    {
      "cell_type": "code",
      "execution_count": 33,
      "metadata": {
        "id": "XDGhsPqa0arF"
      },
      "outputs": [],
      "source": [
        "import numpy as np\n",
        "import matplotlib.pyplot as plt\n"
      ]
    },
    {
      "cell_type": "markdown",
      "source": [
        "***Cell 2: Define Activation Functions***"
      ],
      "metadata": {
        "id": "aMkxr1_d1z88"
      }
    },
    {
      "cell_type": "code",
      "source": [
        "def sigmoid(x):\n",
        "    return 1 / (1 + np.exp(-x))\n",
        "\n",
        "def sigmoid_derivative(output):\n",
        "    return output * (1 - output)\n"
      ],
      "metadata": {
        "id": "Lg0ZRTBk0fE3"
      },
      "execution_count": 34,
      "outputs": []
    },
    {
      "cell_type": "markdown",
      "source": [
        "***Cell 3: Initialize Inputs and Targets***"
      ],
      "metadata": {
        "id": "FJXVp4bP19SE"
      }
    },
    {
      "cell_type": "code",
      "source": [
        "# Input (5 features, 1 sample)\n",
        "X = np.array([[0.1], [0.2], [0.3], [0.4], [0.5]])\n",
        "\n",
        "# Target output (2 neurons)\n",
        "R = np.array([[0.6], [0.4]])\n"
      ],
      "metadata": {
        "id": "apB0Z5CH0kC2"
      },
      "execution_count": 35,
      "outputs": []
    },
    {
      "cell_type": "markdown",
      "source": [
        " ***Cell 4: Initialize Weights and Biases***"
      ],
      "metadata": {
        "id": "62VqAsCo2Du0"
      }
    },
    {
      "cell_type": "code",
      "source": [
        "# Fixed weights and biases for reproducibility\n",
        "W1 = np.array([[0.1, 0.2, 0.1, 0.2, 0.1],\n",
        "               [0.2, 0.1, 0.2, 0.1, 0.2]])\n",
        "b1 = np.array([[0.1], [0.1]])\n",
        "\n",
        "W2 = np.array([[0.2, 0.1],\n",
        "               [0.1, 0.2]])\n",
        "b2 = np.array([[0.1], [0.1]])\n",
        "\n",
        "W3 = np.array([[0.1, 0.2],\n",
        "               [0.2, 0.1]])\n",
        "b3 = np.array([[0.1], [0.1]])\n",
        "\n",
        "W4 = np.array([[0.2, 0.1],\n",
        "               [0.1, 0.2]])\n",
        "b4 = np.array([[0.1], [0.1]])\n"
      ],
      "metadata": {
        "id": "8ZrmQuMN0m82"
      },
      "execution_count": 36,
      "outputs": []
    },
    {
      "cell_type": "markdown",
      "source": [
        "*** Cell 5: Training Parameters***"
      ],
      "metadata": {
        "id": "sQ8gF54l2LDL"
      }
    },
    {
      "cell_type": "code",
      "source": [
        "alpha = 0.5\n",
        "epochs = 1000\n",
        "error_list = []\n"
      ],
      "metadata": {
        "id": "g6fdfq8z0pc-"
      },
      "execution_count": 37,
      "outputs": []
    },
    {
      "cell_type": "markdown",
      "source": [
        "***Cell 6: Training Loop (Forward + Backward Propagation)***"
      ],
      "metadata": {
        "id": "rhKazfup2OHD"
      }
    },
    {
      "cell_type": "code",
      "source": [
        "for epoch in range(epochs):\n",
        "    # Forward Pass\n",
        "    z1 = W1 @ X + b1\n",
        "    a1 = sigmoid(z1)\n",
        "\n",
        "    z2 = W2 @ a1 + b2\n",
        "    a2 = sigmoid(z2)\n",
        "\n",
        "    z3 = W3 @ a2 + b3\n",
        "    a3 = sigmoid(z3)\n",
        "\n",
        "    z4 = W4 @ a3 + b4\n",
        "    a4 = sigmoid(z4)\n",
        "\n",
        "    # Error\n",
        "    error = 0.5 * np.sum((R - a4) ** 2)\n",
        "    error_list.append(error)\n",
        "\n",
        "    # Backward Pass\n",
        "    delta4 = (a4 - R) * sigmoid_derivative(a4)\n",
        "    dW4 = delta4 @ a3.T\n",
        "    db4 = delta4\n",
        "\n",
        "    delta3 = (W4.T @ delta4) * sigmoid_derivative(a3)\n",
        "    dW3 = delta3 @ a2.T\n",
        "    db3 = delta3\n",
        "\n",
        "    delta2 = (W3.T @ delta3) * sigmoid_derivative(a2)\n",
        "    dW2 = delta2 @ a1.T\n",
        "    db2 = delta2\n",
        "\n",
        "    delta1 = (W2.T @ delta2) * sigmoid_derivative(a1)\n",
        "    dW1 = delta1 @ X.T\n",
        "    db1 = delta1\n",
        "\n",
        "    # Update Parameters\n",
        "    W4 -= alpha * dW4\n",
        "    b4 -= alpha * db4\n",
        "\n",
        "    W3 -= alpha * dW3\n",
        "    b3 -= alpha * db3\n",
        "\n",
        "    W2 -= alpha * dW2\n",
        "    b2 -= alpha * db2\n",
        "\n",
        "    W1 -= alpha * dW1\n",
        "    b1 -= alpha * db1\n",
        "\n",
        "    # Print selected epochs\n",
        "    if epoch % 100 == 0 or epoch == epochs - 1:\n",
        "        print(f\"\\nEpoch {epoch + 1}\")\n",
        "        print(f\"Predicted Output:\\n{a4}\")\n",
        "        print(f\"Error: {error:.6f}\")\n",
        "        print(f\"Delta4:\\n{delta4}\")\n"
      ],
      "metadata": {
        "colab": {
          "base_uri": "https://localhost:8080/"
        },
        "id": "z3lnD9mj0rUe",
        "outputId": "d8e7fe05-b982-4d44-f503-243b5452eb87"
      },
      "execution_count": 38,
      "outputs": [
        {
          "output_type": "stream",
          "name": "stdout",
          "text": [
            "\n",
            "Epoch 1\n",
            "Predicted Output:\n",
            "[[0.5671322 ]\n",
            " [0.56713209]]\n",
            "Error: 0.014507\n",
            "Delta4:\n",
            "[[-0.00806882]\n",
            " [ 0.04102981]]\n",
            "\n",
            "Epoch 101\n",
            "Predicted Output:\n",
            "[[0.59976639]\n",
            " [0.4011165 ]]\n",
            "Error: 0.000001\n",
            "Delta4:\n",
            "[[-5.60772953e-05]\n",
            " [ 2.68208145e-04]]\n",
            "\n",
            "Epoch 201\n",
            "Predicted Output:\n",
            "[[0.59999831]\n",
            " [0.40000867]]\n",
            "Error: 0.000000\n",
            "Delta4:\n",
            "[[-4.05510135e-07]\n",
            " [ 2.08105600e-06]]\n",
            "\n",
            "Epoch 301\n",
            "Predicted Output:\n",
            "[[0.59999999]\n",
            " [0.40000007]]\n",
            "Error: 0.000000\n",
            "Delta4:\n",
            "[[-2.92058714e-09]\n",
            " [ 1.61936843e-08]]\n",
            "\n",
            "Epoch 401\n",
            "Predicted Output:\n",
            "[[0.6]\n",
            " [0.4]]\n",
            "Error: 0.000000\n",
            "Delta4:\n",
            "[[-2.09294448e-11]\n",
            " [ 1.26033957e-10]]\n",
            "\n",
            "Epoch 501\n",
            "Predicted Output:\n",
            "[[0.6]\n",
            " [0.4]]\n",
            "Error: 0.000000\n",
            "Delta4:\n",
            "[[-1.49134038e-13]\n",
            " [ 9.81068560e-13]]\n",
            "\n",
            "Epoch 601\n",
            "Predicted Output:\n",
            "[[0.6]\n",
            " [0.4]]\n",
            "Error: 0.000000\n",
            "Delta4:\n",
            "[[-1.06581410e-15]\n",
            " [ 7.63389352e-15]]\n",
            "\n",
            "Epoch 701\n",
            "Predicted Output:\n",
            "[[0.6]\n",
            " [0.4]]\n",
            "Error: 0.000000\n",
            "Delta4:\n",
            "[[-2.66453526e-17]\n",
            " [ 6.66133815e-17]]\n",
            "\n",
            "Epoch 801\n",
            "Predicted Output:\n",
            "[[0.6]\n",
            " [0.4]]\n",
            "Error: 0.000000\n",
            "Delta4:\n",
            "[[-2.66453526e-17]\n",
            " [ 2.66453526e-17]]\n",
            "\n",
            "Epoch 901\n",
            "Predicted Output:\n",
            "[[0.6]\n",
            " [0.4]]\n",
            "Error: 0.000000\n",
            "Delta4:\n",
            "[[-2.66453526e-17]\n",
            " [ 0.00000000e+00]]\n",
            "\n",
            "Epoch 1000\n",
            "Predicted Output:\n",
            "[[0.6]\n",
            " [0.4]]\n",
            "Error: 0.000000\n",
            "Delta4:\n",
            "[[-2.66453526e-17]\n",
            " [ 0.00000000e+00]]\n"
          ]
        }
      ]
    },
    {
      "cell_type": "markdown",
      "source": [
        "***Cell 7: Plot Total Error***"
      ],
      "metadata": {
        "id": "xj2Obii72nE7"
      }
    },
    {
      "cell_type": "code",
      "source": [
        "plt.plot(error_list)\n",
        "plt.xlabel(\"Epoch\")\n",
        "plt.ylabel(\"Total Error\")\n",
        "plt.title(\"Error Over Training Epochs\")\n",
        "plt.grid(True)\n",
        "plt.show()\n"
      ],
      "metadata": {
        "colab": {
          "base_uri": "https://localhost:8080/",
          "height": 472
        },
        "id": "Idkz6Ih32ryq",
        "outputId": "5cf07b6d-e408-4461-bf41-7a8ff22ce4a1"
      },
      "execution_count": 39,
      "outputs": [
        {
          "output_type": "display_data",
          "data": {
            "text/plain": [
              "<Figure size 640x480 with 1 Axes>"
            ],
            "image/png": "[encoded data removed]"
          },
          "metadata": {}
        }
      ]
    }
  ]
}